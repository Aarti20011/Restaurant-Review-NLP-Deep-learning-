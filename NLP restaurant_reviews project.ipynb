{
 "cells": [
  {
   "cell_type": "markdown",
   "id": "d29fa4df",
   "metadata": {},
   "source": [
    "# Data Collection"
   ]
  },
  {
   "cell_type": "code",
   "execution_count": 1,
   "id": "0f6f67f0",
   "metadata": {},
   "outputs": [],
   "source": [
    "import os\n",
    "os.chdir('D:/')"
   ]
  },
  {
   "cell_type": "code",
   "execution_count": 2,
   "id": "be41536d",
   "metadata": {},
   "outputs": [],
   "source": [
    "import pandas as pd"
   ]
  },
  {
   "cell_type": "code",
   "execution_count": 3,
   "id": "126dd8f0",
   "metadata": {},
   "outputs": [
    {
     "data": {
      "text/html": [
       "<div>\n",
       "<style scoped>\n",
       "    .dataframe tbody tr th:only-of-type {\n",
       "        vertical-align: middle;\n",
       "    }\n",
       "\n",
       "    .dataframe tbody tr th {\n",
       "        vertical-align: top;\n",
       "    }\n",
       "\n",
       "    .dataframe thead th {\n",
       "        text-align: right;\n",
       "    }\n",
       "</style>\n",
       "<table border=\"1\" class=\"dataframe\">\n",
       "  <thead>\n",
       "    <tr style=\"text-align: right;\">\n",
       "      <th></th>\n",
       "      <th>Review</th>\n",
       "      <th>Liked</th>\n",
       "    </tr>\n",
       "  </thead>\n",
       "  <tbody>\n",
       "    <tr>\n",
       "      <th>0</th>\n",
       "      <td>Wow... Loved this place.</td>\n",
       "      <td>1</td>\n",
       "    </tr>\n",
       "    <tr>\n",
       "      <th>1</th>\n",
       "      <td>Crust is not good.</td>\n",
       "      <td>0</td>\n",
       "    </tr>\n",
       "    <tr>\n",
       "      <th>2</th>\n",
       "      <td>Not tasty and the texture was just nasty.</td>\n",
       "      <td>0</td>\n",
       "    </tr>\n",
       "    <tr>\n",
       "      <th>3</th>\n",
       "      <td>Stopped by during the late May bank holiday of...</td>\n",
       "      <td>1</td>\n",
       "    </tr>\n",
       "    <tr>\n",
       "      <th>4</th>\n",
       "      <td>The selection on the menu was great and so wer...</td>\n",
       "      <td>1</td>\n",
       "    </tr>\n",
       "    <tr>\n",
       "      <th>...</th>\n",
       "      <td>...</td>\n",
       "      <td>...</td>\n",
       "    </tr>\n",
       "    <tr>\n",
       "      <th>995</th>\n",
       "      <td>I think food should have flavor and texture an...</td>\n",
       "      <td>0</td>\n",
       "    </tr>\n",
       "    <tr>\n",
       "      <th>996</th>\n",
       "      <td>Appetite instantly gone.</td>\n",
       "      <td>0</td>\n",
       "    </tr>\n",
       "    <tr>\n",
       "      <th>997</th>\n",
       "      <td>Overall I was not impressed and would not go b...</td>\n",
       "      <td>0</td>\n",
       "    </tr>\n",
       "    <tr>\n",
       "      <th>998</th>\n",
       "      <td>The whole experience was underwhelming, and I ...</td>\n",
       "      <td>0</td>\n",
       "    </tr>\n",
       "    <tr>\n",
       "      <th>999</th>\n",
       "      <td>Then, as if I hadn't wasted enough of my life ...</td>\n",
       "      <td>0</td>\n",
       "    </tr>\n",
       "  </tbody>\n",
       "</table>\n",
       "<p>1000 rows × 2 columns</p>\n",
       "</div>"
      ],
      "text/plain": [
       "                                                Review  Liked\n",
       "0                             Wow... Loved this place.      1\n",
       "1                                   Crust is not good.      0\n",
       "2            Not tasty and the texture was just nasty.      0\n",
       "3    Stopped by during the late May bank holiday of...      1\n",
       "4    The selection on the menu was great and so wer...      1\n",
       "..                                                 ...    ...\n",
       "995  I think food should have flavor and texture an...      0\n",
       "996                           Appetite instantly gone.      0\n",
       "997  Overall I was not impressed and would not go b...      0\n",
       "998  The whole experience was underwhelming, and I ...      0\n",
       "999  Then, as if I hadn't wasted enough of my life ...      0\n",
       "\n",
       "[1000 rows x 2 columns]"
      ]
     },
     "execution_count": 3,
     "metadata": {},
     "output_type": "execute_result"
    }
   ],
   "source": [
    "df=pd.read_csv('Restaurant_Reviews.csv')\n",
    "df"
   ]
  },
  {
   "cell_type": "code",
   "execution_count": 4,
   "id": "34636778",
   "metadata": {},
   "outputs": [
    {
     "data": {
      "text/html": [
       "<div>\n",
       "<style scoped>\n",
       "    .dataframe tbody tr th:only-of-type {\n",
       "        vertical-align: middle;\n",
       "    }\n",
       "\n",
       "    .dataframe tbody tr th {\n",
       "        vertical-align: top;\n",
       "    }\n",
       "\n",
       "    .dataframe thead th {\n",
       "        text-align: right;\n",
       "    }\n",
       "</style>\n",
       "<table border=\"1\" class=\"dataframe\">\n",
       "  <thead>\n",
       "    <tr style=\"text-align: right;\">\n",
       "      <th></th>\n",
       "      <th>Review</th>\n",
       "      <th>Liked</th>\n",
       "    </tr>\n",
       "  </thead>\n",
       "  <tbody>\n",
       "    <tr>\n",
       "      <th>995</th>\n",
       "      <td>I think food should have flavor and texture an...</td>\n",
       "      <td>0</td>\n",
       "    </tr>\n",
       "    <tr>\n",
       "      <th>996</th>\n",
       "      <td>Appetite instantly gone.</td>\n",
       "      <td>0</td>\n",
       "    </tr>\n",
       "    <tr>\n",
       "      <th>997</th>\n",
       "      <td>Overall I was not impressed and would not go b...</td>\n",
       "      <td>0</td>\n",
       "    </tr>\n",
       "    <tr>\n",
       "      <th>998</th>\n",
       "      <td>The whole experience was underwhelming, and I ...</td>\n",
       "      <td>0</td>\n",
       "    </tr>\n",
       "    <tr>\n",
       "      <th>999</th>\n",
       "      <td>Then, as if I hadn't wasted enough of my life ...</td>\n",
       "      <td>0</td>\n",
       "    </tr>\n",
       "  </tbody>\n",
       "</table>\n",
       "</div>"
      ],
      "text/plain": [
       "                                                Review  Liked\n",
       "995  I think food should have flavor and texture an...      0\n",
       "996                           Appetite instantly gone.      0\n",
       "997  Overall I was not impressed and would not go b...      0\n",
       "998  The whole experience was underwhelming, and I ...      0\n",
       "999  Then, as if I hadn't wasted enough of my life ...      0"
      ]
     },
     "execution_count": 4,
     "metadata": {},
     "output_type": "execute_result"
    }
   ],
   "source": [
    "df.tail()"
   ]
  },
  {
   "cell_type": "markdown",
   "id": "0c284024",
   "metadata": {},
   "source": [
    "# Preprocessing"
   ]
  },
  {
   "cell_type": "code",
   "execution_count": 5,
   "id": "7959962c",
   "metadata": {},
   "outputs": [],
   "source": [
    "import re"
   ]
  },
  {
   "cell_type": "code",
   "execution_count": 6,
   "id": "818cf7d6",
   "metadata": {},
   "outputs": [],
   "source": [
    "pre=[]\n",
    "for i in df['Review']:\n",
    "    s=i.lower()\n",
    "    s1=re.sub('[^a-z]','',s)\n",
    "    pre.append(s1)"
   ]
  },
  {
   "cell_type": "code",
   "execution_count": 7,
   "id": "dbad8442",
   "metadata": {},
   "outputs": [
    {
     "data": {
      "text/plain": [
       "['wowlovedthisplace', 'crustisnotgood', 'nottastyandthetexturewasjustnasty']"
      ]
     },
     "execution_count": 7,
     "metadata": {},
     "output_type": "execute_result"
    }
   ],
   "source": [
    "pre[0:3]"
   ]
  },
  {
   "cell_type": "code",
   "execution_count": 8,
   "id": "def89248",
   "metadata": {},
   "outputs": [
    {
     "data": {
      "text/html": [
       "<div>\n",
       "<style scoped>\n",
       "    .dataframe tbody tr th:only-of-type {\n",
       "        vertical-align: middle;\n",
       "    }\n",
       "\n",
       "    .dataframe tbody tr th {\n",
       "        vertical-align: top;\n",
       "    }\n",
       "\n",
       "    .dataframe thead th {\n",
       "        text-align: right;\n",
       "    }\n",
       "</style>\n",
       "<table border=\"1\" class=\"dataframe\">\n",
       "  <thead>\n",
       "    <tr style=\"text-align: right;\">\n",
       "      <th></th>\n",
       "      <th>Review</th>\n",
       "      <th>Liked</th>\n",
       "      <th>Review1</th>\n",
       "    </tr>\n",
       "  </thead>\n",
       "  <tbody>\n",
       "    <tr>\n",
       "      <th>0</th>\n",
       "      <td>Wow... Loved this place.</td>\n",
       "      <td>1</td>\n",
       "      <td>wowlovedthisplace</td>\n",
       "    </tr>\n",
       "    <tr>\n",
       "      <th>1</th>\n",
       "      <td>Crust is not good.</td>\n",
       "      <td>0</td>\n",
       "      <td>crustisnotgood</td>\n",
       "    </tr>\n",
       "    <tr>\n",
       "      <th>2</th>\n",
       "      <td>Not tasty and the texture was just nasty.</td>\n",
       "      <td>0</td>\n",
       "      <td>nottastyandthetexturewasjustnasty</td>\n",
       "    </tr>\n",
       "    <tr>\n",
       "      <th>3</th>\n",
       "      <td>Stopped by during the late May bank holiday of...</td>\n",
       "      <td>1</td>\n",
       "      <td>stoppedbyduringthelatemaybankholidayoffrickste...</td>\n",
       "    </tr>\n",
       "    <tr>\n",
       "      <th>4</th>\n",
       "      <td>The selection on the menu was great and so wer...</td>\n",
       "      <td>1</td>\n",
       "      <td>theselectiononthemenuwasgreatandsoweretheprices</td>\n",
       "    </tr>\n",
       "    <tr>\n",
       "      <th>...</th>\n",
       "      <td>...</td>\n",
       "      <td>...</td>\n",
       "      <td>...</td>\n",
       "    </tr>\n",
       "    <tr>\n",
       "      <th>995</th>\n",
       "      <td>I think food should have flavor and texture an...</td>\n",
       "      <td>0</td>\n",
       "      <td>ithinkfoodshouldhaveflavorandtextureandbothwer...</td>\n",
       "    </tr>\n",
       "    <tr>\n",
       "      <th>996</th>\n",
       "      <td>Appetite instantly gone.</td>\n",
       "      <td>0</td>\n",
       "      <td>appetiteinstantlygone</td>\n",
       "    </tr>\n",
       "    <tr>\n",
       "      <th>997</th>\n",
       "      <td>Overall I was not impressed and would not go b...</td>\n",
       "      <td>0</td>\n",
       "      <td>overalliwasnotimpressedandwouldnotgoback</td>\n",
       "    </tr>\n",
       "    <tr>\n",
       "      <th>998</th>\n",
       "      <td>The whole experience was underwhelming, and I ...</td>\n",
       "      <td>0</td>\n",
       "      <td>thewholeexperiencewasunderwhelmingandithinkwel...</td>\n",
       "    </tr>\n",
       "    <tr>\n",
       "      <th>999</th>\n",
       "      <td>Then, as if I hadn't wasted enough of my life ...</td>\n",
       "      <td>0</td>\n",
       "      <td>thenasifihadntwastedenoughofmylifetheretheypou...</td>\n",
       "    </tr>\n",
       "  </tbody>\n",
       "</table>\n",
       "<p>1000 rows × 3 columns</p>\n",
       "</div>"
      ],
      "text/plain": [
       "                                                Review  Liked  \\\n",
       "0                             Wow... Loved this place.      1   \n",
       "1                                   Crust is not good.      0   \n",
       "2            Not tasty and the texture was just nasty.      0   \n",
       "3    Stopped by during the late May bank holiday of...      1   \n",
       "4    The selection on the menu was great and so wer...      1   \n",
       "..                                                 ...    ...   \n",
       "995  I think food should have flavor and texture an...      0   \n",
       "996                           Appetite instantly gone.      0   \n",
       "997  Overall I was not impressed and would not go b...      0   \n",
       "998  The whole experience was underwhelming, and I ...      0   \n",
       "999  Then, as if I hadn't wasted enough of my life ...      0   \n",
       "\n",
       "                                               Review1  \n",
       "0                                    wowlovedthisplace  \n",
       "1                                       crustisnotgood  \n",
       "2                    nottastyandthetexturewasjustnasty  \n",
       "3    stoppedbyduringthelatemaybankholidayoffrickste...  \n",
       "4      theselectiononthemenuwasgreatandsoweretheprices  \n",
       "..                                                 ...  \n",
       "995  ithinkfoodshouldhaveflavorandtextureandbothwer...  \n",
       "996                              appetiteinstantlygone  \n",
       "997           overalliwasnotimpressedandwouldnotgoback  \n",
       "998  thewholeexperiencewasunderwhelmingandithinkwel...  \n",
       "999  thenasifihadntwastedenoughofmylifetheretheypou...  \n",
       "\n",
       "[1000 rows x 3 columns]"
      ]
     },
     "execution_count": 8,
     "metadata": {},
     "output_type": "execute_result"
    }
   ],
   "source": [
    "df['Review1']=pre\n",
    "df"
   ]
  },
  {
   "cell_type": "markdown",
   "id": "bcd1d3eb",
   "metadata": {},
   "source": [
    "# Define x and Y"
   ]
  },
  {
   "cell_type": "code",
   "execution_count": 9,
   "id": "9cd899fd",
   "metadata": {},
   "outputs": [],
   "source": [
    "x=df['Review1']\n",
    "y=df['Liked']"
   ]
  },
  {
   "cell_type": "code",
   "execution_count": 10,
   "id": "906d124f",
   "metadata": {
    "scrolled": true
   },
   "outputs": [
    {
     "data": {
      "text/plain": [
       "0      1\n",
       "1      0\n",
       "2      0\n",
       "3      1\n",
       "4      1\n",
       "      ..\n",
       "995    0\n",
       "996    0\n",
       "997    0\n",
       "998    0\n",
       "999    0\n",
       "Name: Liked, Length: 1000, dtype: int64"
      ]
     },
     "execution_count": 10,
     "metadata": {},
     "output_type": "execute_result"
    }
   ],
   "source": [
    "y"
   ]
  },
  {
   "cell_type": "code",
   "execution_count": 11,
   "id": "890a9a92",
   "metadata": {},
   "outputs": [
    {
     "data": {
      "text/plain": [
       "0                                      wowlovedthisplace\n",
       "1                                         crustisnotgood\n",
       "2                      nottastyandthetexturewasjustnasty\n",
       "3      stoppedbyduringthelatemaybankholidayoffrickste...\n",
       "4        theselectiononthemenuwasgreatandsoweretheprices\n",
       "                             ...                        \n",
       "995    ithinkfoodshouldhaveflavorandtextureandbothwer...\n",
       "996                                appetiteinstantlygone\n",
       "997             overalliwasnotimpressedandwouldnotgoback\n",
       "998    thewholeexperiencewasunderwhelmingandithinkwel...\n",
       "999    thenasifihadntwastedenoughofmylifetheretheypou...\n",
       "Name: Review1, Length: 1000, dtype: object"
      ]
     },
     "execution_count": 11,
     "metadata": {},
     "output_type": "execute_result"
    }
   ],
   "source": [
    "x"
   ]
  },
  {
   "cell_type": "markdown",
   "id": "20dd0933",
   "metadata": {},
   "source": [
    "# Vectorization"
   ]
  },
  {
   "cell_type": "code",
   "execution_count": 12,
   "id": "bd34d735",
   "metadata": {},
   "outputs": [],
   "source": [
    "from sklearn.feature_extraction.text import TfidfVectorizer,CountVectorizer"
   ]
  },
  {
   "cell_type": "code",
   "execution_count": 13,
   "id": "bb9d3acd",
   "metadata": {},
   "outputs": [],
   "source": [
    "tf=TfidfVectorizer()\n",
    "cv=CountVectorizer()"
   ]
  },
  {
   "cell_type": "code",
   "execution_count": 14,
   "id": "0c310d06",
   "metadata": {},
   "outputs": [
    {
     "data": {
      "text/plain": [
       "array([[0., 0., 0., ..., 0., 0., 0.],\n",
       "       [0., 0., 0., ..., 0., 0., 0.],\n",
       "       [0., 0., 0., ..., 0., 0., 0.],\n",
       "       ...,\n",
       "       [0., 0., 0., ..., 0., 0., 0.],\n",
       "       [0., 0., 0., ..., 0., 0., 0.],\n",
       "       [0., 0., 0., ..., 0., 0., 0.]])"
      ]
     },
     "execution_count": 14,
     "metadata": {},
     "output_type": "execute_result"
    }
   ],
   "source": [
    "x1=tf.fit_transform(x).toarray()\n",
    "x1"
   ]
  },
  {
   "cell_type": "code",
   "execution_count": 15,
   "id": "f8adcc69",
   "metadata": {},
   "outputs": [
    {
     "data": {
      "text/plain": [
       "array([[0, 0, 0, ..., 0, 0, 0],\n",
       "       [0, 0, 0, ..., 0, 0, 0],\n",
       "       [0, 0, 0, ..., 0, 0, 0],\n",
       "       ...,\n",
       "       [0, 0, 0, ..., 0, 0, 0],\n",
       "       [0, 0, 0, ..., 0, 0, 0],\n",
       "       [0, 0, 0, ..., 0, 0, 0]], dtype=int64)"
      ]
     },
     "execution_count": 15,
     "metadata": {},
     "output_type": "execute_result"
    }
   ],
   "source": [
    "x2=cv.fit_transform(x).toarray()\n",
    "x2"
   ]
  },
  {
   "cell_type": "markdown",
   "id": "3399c4c6",
   "metadata": {},
   "source": [
    "# Split the data"
   ]
  },
  {
   "cell_type": "code",
   "execution_count": 30,
   "id": "7623c47d",
   "metadata": {},
   "outputs": [],
   "source": [
    "from sklearn.model_selection import train_test_split\n",
    "x_train,x_test,y_train,y_test=train_test_split(x1,y,test_size=0.2,random_state=21)"
   ]
  },
  {
   "cell_type": "markdown",
   "id": "ed59217a",
   "metadata": {},
   "source": [
    "# Model Buliding"
   ]
  },
  {
   "cell_type": "code",
   "execution_count": 17,
   "id": "68e3e216",
   "metadata": {},
   "outputs": [
    {
     "name": "stdout",
     "output_type": "stream",
     "text": [
      "WARNING:tensorflow:From C:\\Users\\AMOL ASHOK GHUNGARDE\\anaconda3\\lib\\site-packages\\keras\\src\\losses.py:2976: The name tf.losses.sparse_softmax_cross_entropy is deprecated. Please use tf.compat.v1.losses.sparse_softmax_cross_entropy instead.\n",
      "\n"
     ]
    }
   ],
   "source": [
    "from keras.models import Sequential\n",
    "from keras.layers import Dense,BatchNormalization,Dropout"
   ]
  },
  {
   "cell_type": "code",
   "execution_count": 18,
   "id": "4125e712",
   "metadata": {},
   "outputs": [
    {
     "name": "stdout",
     "output_type": "stream",
     "text": [
      "WARNING:tensorflow:From C:\\Users\\AMOL ASHOK GHUNGARDE\\anaconda3\\lib\\site-packages\\keras\\src\\backend.py:873: The name tf.get_default_graph is deprecated. Please use tf.compat.v1.get_default_graph instead.\n",
      "\n"
     ]
    }
   ],
   "source": [
    "nn=Sequential()"
   ]
  },
  {
   "cell_type": "code",
   "execution_count": 19,
   "id": "e0d66786",
   "metadata": {},
   "outputs": [],
   "source": [
    "nn.add(Dense(1000,input_dim=x_train.shape[1],activation ='relu'))\n",
    "nn.add(BatchNormalization())\n",
    "\n",
    "nn.add(Dense(1000,activation='relu'))\n",
    "nn.add(BatchNormalization())\n",
    "nn.add(Dropout(0.2))\n",
    "\n",
    "nn.add(Dense(1000,activation='relu'))\n",
    "nn.add(BatchNormalization())\n",
    "nn.add(Dropout(0.2))\n",
    "\n",
    "nn.add(Dense(1,activation='sigmoid'))\n"
   ]
  },
  {
   "cell_type": "markdown",
   "id": "0a8016bb",
   "metadata": {},
   "source": [
    "# Compile the model"
   ]
  },
  {
   "cell_type": "code",
   "execution_count": 46,
   "id": "5f79a1a1",
   "metadata": {},
   "outputs": [],
   "source": [
    "nn.compile(loss='binary_crossentropy',optimizer='adam',metrics=['accuracy'])"
   ]
  },
  {
   "cell_type": "markdown",
   "id": "436cdca8",
   "metadata": {},
   "source": [
    "# Callbacks"
   ]
  },
  {
   "cell_type": "code",
   "execution_count": 47,
   "id": "9e8840b6",
   "metadata": {},
   "outputs": [],
   "source": [
    "from keras.callbacks import EarlyStopping\n",
    "Early=EarlyStopping(monitor='Val_loss',patience=5)"
   ]
  },
  {
   "cell_type": "markdown",
   "id": "0be58db0",
   "metadata": {},
   "source": [
    "# Fitting Model"
   ]
  },
  {
   "cell_type": "code",
   "execution_count": 48,
   "id": "9311f481",
   "metadata": {},
   "outputs": [
    {
     "name": "stdout",
     "output_type": "stream",
     "text": [
      "Epoch 1/50\n",
      "WARNING:tensorflow:From C:\\Users\\AMOL ASHOK GHUNGARDE\\anaconda3\\lib\\site-packages\\keras\\src\\utils\\tf_utils.py:492: The name tf.ragged.RaggedTensorValue is deprecated. Please use tf.compat.v1.ragged.RaggedTensorValue instead.\n",
      "\n",
      "WARNING:tensorflow:From C:\\Users\\AMOL ASHOK GHUNGARDE\\anaconda3\\lib\\site-packages\\keras\\src\\engine\\base_layer_utils.py:384: The name tf.executing_eagerly_outside_functions is deprecated. Please use tf.compat.v1.executing_eagerly_outside_functions instead.\n",
      "\n",
      "19/20 [===========================>..] - ETA: 0s - loss: 1.4097 - accuracy: 0.5312WARNING:tensorflow:Early stopping conditioned on metric `Val_loss` which is not available. Available metrics are: loss,accuracy,val_loss,val_accuracy\n",
      "20/20 [==============================] - 5s 72ms/step - loss: 1.3911 - accuracy: 0.5328 - val_loss: 0.6927 - val_accuracy: 0.5500\n",
      "Epoch 2/50\n",
      "19/20 [===========================>..] - ETA: 0s - loss: 0.3411 - accuracy: 0.9013WARNING:tensorflow:Early stopping conditioned on metric `Val_loss` which is not available. Available metrics are: loss,accuracy,val_loss,val_accuracy\n",
      "20/20 [==============================] - 1s 48ms/step - loss: 0.3404 - accuracy: 0.9031 - val_loss: 0.6893 - val_accuracy: 0.5312\n",
      "Epoch 3/50\n",
      "19/20 [===========================>..] - ETA: 0s - loss: 0.0837 - accuracy: 0.9671WARNING:tensorflow:Early stopping conditioned on metric `Val_loss` which is not available. Available metrics are: loss,accuracy,val_loss,val_accuracy\n",
      "20/20 [==============================] - 1s 46ms/step - loss: 0.0817 - accuracy: 0.9688 - val_loss: 0.6869 - val_accuracy: 0.5500\n",
      "Epoch 4/50\n",
      "19/20 [===========================>..] - ETA: 0s - loss: 0.0560 - accuracy: 0.9868WARNING:tensorflow:Early stopping conditioned on metric `Val_loss` which is not available. Available metrics are: loss,accuracy,val_loss,val_accuracy\n",
      "20/20 [==============================] - 1s 45ms/step - loss: 0.0541 - accuracy: 0.9875 - val_loss: 0.6870 - val_accuracy: 0.5188\n",
      "Epoch 5/50\n",
      "19/20 [===========================>..] - ETA: 0s - loss: 0.0511 - accuracy: 0.9786WARNING:tensorflow:Early stopping conditioned on metric `Val_loss` which is not available. Available metrics are: loss,accuracy,val_loss,val_accuracy\n",
      "20/20 [==============================] - 1s 40ms/step - loss: 0.0494 - accuracy: 0.9797 - val_loss: 0.7027 - val_accuracy: 0.4875\n",
      "Epoch 6/50\n",
      "20/20 [==============================] - ETA: 0s - loss: 0.0195 - accuracy: 0.9937WARNING:tensorflow:Early stopping conditioned on metric `Val_loss` which is not available. Available metrics are: loss,accuracy,val_loss,val_accuracy\n",
      "20/20 [==============================] - 1s 41ms/step - loss: 0.0195 - accuracy: 0.9937 - val_loss: 0.7400 - val_accuracy: 0.4437\n",
      "Epoch 7/50\n",
      "20/20 [==============================] - ETA: 0s - loss: 0.0182 - accuracy: 0.9984WARNING:tensorflow:Early stopping conditioned on metric `Val_loss` which is not available. Available metrics are: loss,accuracy,val_loss,val_accuracy\n",
      "20/20 [==============================] - 1s 44ms/step - loss: 0.0182 - accuracy: 0.9984 - val_loss: 0.7696 - val_accuracy: 0.4437\n",
      "Epoch 8/50\n",
      "19/20 [===========================>..] - ETA: 0s - loss: 0.0148 - accuracy: 0.9951WARNING:tensorflow:Early stopping conditioned on metric `Val_loss` which is not available. Available metrics are: loss,accuracy,val_loss,val_accuracy\n",
      "20/20 [==============================] - 1s 41ms/step - loss: 0.0140 - accuracy: 0.9953 - val_loss: 0.7993 - val_accuracy: 0.4437\n",
      "Epoch 9/50\n",
      "19/20 [===========================>..] - ETA: 0s - loss: 0.0011 - accuracy: 1.0000WARNING:tensorflow:Early stopping conditioned on metric `Val_loss` which is not available. Available metrics are: loss,accuracy,val_loss,val_accuracy\n",
      "20/20 [==============================] - 1s 45ms/step - loss: 0.0011 - accuracy: 1.0000 - val_loss: 0.8163 - val_accuracy: 0.4437\n",
      "Epoch 10/50\n",
      "19/20 [===========================>..] - ETA: 0s - loss: 0.0144 - accuracy: 0.9967WARNING:tensorflow:Early stopping conditioned on metric `Val_loss` which is not available. Available metrics are: loss,accuracy,val_loss,val_accuracy\n",
      "20/20 [==============================] - 1s 41ms/step - loss: 0.0137 - accuracy: 0.9969 - val_loss: 0.8372 - val_accuracy: 0.4437\n",
      "Epoch 11/50\n",
      "20/20 [==============================] - ETA: 0s - loss: 0.0056 - accuracy: 0.9969WARNING:tensorflow:Early stopping conditioned on metric `Val_loss` which is not available. Available metrics are: loss,accuracy,val_loss,val_accuracy\n",
      "20/20 [==============================] - 1s 40ms/step - loss: 0.0056 - accuracy: 0.9969 - val_loss: 0.8629 - val_accuracy: 0.4437\n",
      "Epoch 12/50\n",
      "20/20 [==============================] - ETA: 0s - loss: 0.0051 - accuracy: 0.9969WARNING:tensorflow:Early stopping conditioned on metric `Val_loss` which is not available. Available metrics are: loss,accuracy,val_loss,val_accuracy\n",
      "20/20 [==============================] - 1s 47ms/step - loss: 0.0051 - accuracy: 0.9969 - val_loss: 0.8857 - val_accuracy: 0.4437\n",
      "Epoch 13/50\n",
      "20/20 [==============================] - ETA: 0s - loss: 0.0196 - accuracy: 0.9984WARNING:tensorflow:Early stopping conditioned on metric `Val_loss` which is not available. Available metrics are: loss,accuracy,val_loss,val_accuracy\n",
      "20/20 [==============================] - 1s 60ms/step - loss: 0.0196 - accuracy: 0.9984 - val_loss: 0.9277 - val_accuracy: 0.4437\n",
      "Epoch 14/50\n",
      "19/20 [===========================>..] - ETA: 0s - loss: 0.0126 - accuracy: 0.9984WARNING:tensorflow:Early stopping conditioned on metric `Val_loss` which is not available. Available metrics are: loss,accuracy,val_loss,val_accuracy\n",
      "20/20 [==============================] - 1s 48ms/step - loss: 0.0120 - accuracy: 0.9984 - val_loss: 0.9759 - val_accuracy: 0.4437\n",
      "Epoch 15/50\n",
      "20/20 [==============================] - ETA: 0s - loss: 0.0109 - accuracy: 0.9969WARNING:tensorflow:Early stopping conditioned on metric `Val_loss` which is not available. Available metrics are: loss,accuracy,val_loss,val_accuracy\n",
      "20/20 [==============================] - 1s 51ms/step - loss: 0.0109 - accuracy: 0.9969 - val_loss: 0.9210 - val_accuracy: 0.4375\n",
      "Epoch 16/50\n",
      "20/20 [==============================] - ETA: 0s - loss: 4.0612e-04 - accuracy: 1.0000WARNING:tensorflow:Early stopping conditioned on metric `Val_loss` which is not available. Available metrics are: loss,accuracy,val_loss,val_accuracy\n",
      "20/20 [==============================] - 1s 57ms/step - loss: 4.0612e-04 - accuracy: 1.0000 - val_loss: 0.8729 - val_accuracy: 0.4500\n",
      "Epoch 17/50\n",
      "19/20 [===========================>..] - ETA: 0s - loss: 0.0168 - accuracy: 0.9967WARNING:tensorflow:Early stopping conditioned on metric `Val_loss` which is not available. Available metrics are: loss,accuracy,val_loss,val_accuracy\n",
      "20/20 [==============================] - 1s 45ms/step - loss: 0.0160 - accuracy: 0.9969 - val_loss: 0.9098 - val_accuracy: 0.4563\n",
      "Epoch 18/50\n",
      "19/20 [===========================>..] - ETA: 0s - loss: 0.0019 - accuracy: 0.9984  WARNING:tensorflow:Early stopping conditioned on metric `Val_loss` which is not available. Available metrics are: loss,accuracy,val_loss,val_accuracy\n",
      "20/20 [==============================] - 1s 43ms/step - loss: 0.0018 - accuracy: 0.9984 - val_loss: 0.8761 - val_accuracy: 0.4812\n",
      "Epoch 19/50\n",
      "19/20 [===========================>..] - ETA: 0s - loss: 0.0145 - accuracy: 0.9984WARNING:tensorflow:Early stopping conditioned on metric `Val_loss` which is not available. Available metrics are: loss,accuracy,val_loss,val_accuracy\n",
      "20/20 [==============================] - 1s 47ms/step - loss: 0.0138 - accuracy: 0.9984 - val_loss: 0.8835 - val_accuracy: 0.4938\n",
      "Epoch 20/50\n",
      "19/20 [===========================>..] - ETA: 0s - loss: 0.0062 - accuracy: 0.9984WARNING:tensorflow:Early stopping conditioned on metric `Val_loss` which is not available. Available metrics are: loss,accuracy,val_loss,val_accuracy\n",
      "20/20 [==============================] - 1s 53ms/step - loss: 0.0060 - accuracy: 0.9984 - val_loss: 0.9071 - val_accuracy: 0.5000\n",
      "Epoch 21/50\n",
      "20/20 [==============================] - ETA: 0s - loss: 0.0137 - accuracy: 0.9984WARNING:tensorflow:Early stopping conditioned on metric `Val_loss` which is not available. Available metrics are: loss,accuracy,val_loss,val_accuracy\n",
      "20/20 [==============================] - 1s 57ms/step - loss: 0.0137 - accuracy: 0.9984 - val_loss: 0.9339 - val_accuracy: 0.5063\n",
      "Epoch 22/50\n",
      "20/20 [==============================] - ETA: 0s - loss: 0.0126 - accuracy: 0.9969WARNING:tensorflow:Early stopping conditioned on metric `Val_loss` which is not available. Available metrics are: loss,accuracy,val_loss,val_accuracy\n",
      "20/20 [==============================] - 1s 49ms/step - loss: 0.0126 - accuracy: 0.9969 - val_loss: 0.9125 - val_accuracy: 0.5063\n",
      "Epoch 23/50\n",
      "19/20 [===========================>..] - ETA: 0s - loss: 0.0143 - accuracy: 0.9967WARNING:tensorflow:Early stopping conditioned on metric `Val_loss` which is not available. Available metrics are: loss,accuracy,val_loss,val_accuracy\n",
      "20/20 [==============================] - 1s 48ms/step - loss: 0.0136 - accuracy: 0.9969 - val_loss: 1.0020 - val_accuracy: 0.5188\n",
      "Epoch 24/50\n",
      "19/20 [===========================>..] - ETA: 0s - loss: 0.0086 - accuracy: 0.9967WARNING:tensorflow:Early stopping conditioned on metric `Val_loss` which is not available. Available metrics are: loss,accuracy,val_loss,val_accuracy\n",
      "20/20 [==============================] - 1s 65ms/step - loss: 0.0082 - accuracy: 0.9969 - val_loss: 0.9685 - val_accuracy: 0.5188\n",
      "Epoch 25/50\n",
      "20/20 [==============================] - ETA: 0s - loss: 0.0087 - accuracy: 0.9969WARNING:tensorflow:Early stopping conditioned on metric `Val_loss` which is not available. Available metrics are: loss,accuracy,val_loss,val_accuracy\n",
      "20/20 [==============================] - 1s 44ms/step - loss: 0.0087 - accuracy: 0.9969 - val_loss: 0.9681 - val_accuracy: 0.5312\n",
      "Epoch 26/50\n",
      "19/20 [===========================>..] - ETA: 0s - loss: 0.0035 - accuracy: 0.9984WARNING:tensorflow:Early stopping conditioned on metric `Val_loss` which is not available. Available metrics are: loss,accuracy,val_loss,val_accuracy\n",
      "20/20 [==============================] - 1s 41ms/step - loss: 0.0034 - accuracy: 0.9984 - val_loss: 0.9527 - val_accuracy: 0.5500\n",
      "Epoch 27/50\n",
      "19/20 [===========================>..] - ETA: 0s - loss: 0.0094 - accuracy: 0.9967WARNING:tensorflow:Early stopping conditioned on metric `Val_loss` which is not available. Available metrics are: loss,accuracy,val_loss,val_accuracy\n",
      "20/20 [==============================] - 1s 42ms/step - loss: 0.0089 - accuracy: 0.9969 - val_loss: 0.9777 - val_accuracy: 0.5500\n",
      "Epoch 28/50\n",
      "20/20 [==============================] - ETA: 0s - loss: 0.0076 - accuracy: 0.9984    WARNING:tensorflow:Early stopping conditioned on metric `Val_loss` which is not available. Available metrics are: loss,accuracy,val_loss,val_accuracy\n",
      "20/20 [==============================] - 1s 49ms/step - loss: 0.0076 - accuracy: 0.9984 - val_loss: 0.9946 - val_accuracy: 0.5437\n",
      "Epoch 29/50\n",
      "19/20 [===========================>..] - ETA: 0s - loss: 0.0088 - accuracy: 0.9984WARNING:tensorflow:Early stopping conditioned on metric `Val_loss` which is not available. Available metrics are: loss,accuracy,val_loss,val_accuracy\n",
      "20/20 [==============================] - 1s 51ms/step - loss: 0.0083 - accuracy: 0.9984 - val_loss: 1.0428 - val_accuracy: 0.5375\n",
      "Epoch 30/50\n",
      "20/20 [==============================] - ETA: 0s - loss: 0.0137 - accuracy: 0.9953WARNING:tensorflow:Early stopping conditioned on metric `Val_loss` which is not available. Available metrics are: loss,accuracy,val_loss,val_accuracy\n",
      "20/20 [==============================] - 1s 47ms/step - loss: 0.0137 - accuracy: 0.9953 - val_loss: 1.0747 - val_accuracy: 0.5375\n",
      "Epoch 31/50\n",
      "20/20 [==============================] - ETA: 0s - loss: 0.0111 - accuracy: 0.9953WARNING:tensorflow:Early stopping conditioned on metric `Val_loss` which is not available. Available metrics are: loss,accuracy,val_loss,val_accuracy\n",
      "20/20 [==============================] - 1s 45ms/step - loss: 0.0111 - accuracy: 0.9953 - val_loss: 1.0898 - val_accuracy: 0.5500\n",
      "Epoch 32/50\n",
      "19/20 [===========================>..] - ETA: 0s - loss: 0.0023 - accuracy: 1.0000WARNING:tensorflow:Early stopping conditioned on metric `Val_loss` which is not available. Available metrics are: loss,accuracy,val_loss,val_accuracy\n",
      "20/20 [==============================] - 1s 55ms/step - loss: 0.0021 - accuracy: 1.0000 - val_loss: 1.1412 - val_accuracy: 0.5562\n",
      "Epoch 33/50\n",
      "20/20 [==============================] - ETA: 0s - loss: 0.0044 - accuracy: 0.9969WARNING:tensorflow:Early stopping conditioned on metric `Val_loss` which is not available. Available metrics are: loss,accuracy,val_loss,val_accuracy\n",
      "20/20 [==============================] - 1s 51ms/step - loss: 0.0044 - accuracy: 0.9969 - val_loss: 1.2074 - val_accuracy: 0.5688\n",
      "Epoch 34/50\n",
      "19/20 [===========================>..] - ETA: 0s - loss: 0.0163 - accuracy: 0.9901WARNING:tensorflow:Early stopping conditioned on metric `Val_loss` which is not available. Available metrics are: loss,accuracy,val_loss,val_accuracy\n",
      "20/20 [==============================] - 1s 52ms/step - loss: 0.0155 - accuracy: 0.9906 - val_loss: 1.3167 - val_accuracy: 0.5312\n",
      "Epoch 35/50\n",
      "20/20 [==============================] - ETA: 0s - loss: 0.0873 - accuracy: 0.9797WARNING:tensorflow:Early stopping conditioned on metric `Val_loss` which is not available. Available metrics are: loss,accuracy,val_loss,val_accuracy\n",
      "20/20 [==============================] - 1s 58ms/step - loss: 0.0873 - accuracy: 0.9797 - val_loss: 1.3906 - val_accuracy: 0.5437\n",
      "Epoch 36/50\n",
      "19/20 [===========================>..] - ETA: 0s - loss: 0.0584 - accuracy: 0.9819WARNING:tensorflow:Early stopping conditioned on metric `Val_loss` which is not available. Available metrics are: loss,accuracy,val_loss,val_accuracy\n",
      "20/20 [==============================] - 1s 55ms/step - loss: 0.0562 - accuracy: 0.9828 - val_loss: 1.7448 - val_accuracy: 0.5000\n",
      "Epoch 37/50\n",
      "19/20 [===========================>..] - ETA: 0s - loss: 0.0954 - accuracy: 0.9786WARNING:tensorflow:Early stopping conditioned on metric `Val_loss` which is not available. Available metrics are: loss,accuracy,val_loss,val_accuracy\n",
      "20/20 [==============================] - 1s 49ms/step - loss: 0.0907 - accuracy: 0.9797 - val_loss: 2.0593 - val_accuracy: 0.4938\n",
      "Epoch 38/50\n",
      "19/20 [===========================>..] - ETA: 0s - loss: 0.1134 - accuracy: 0.9704WARNING:tensorflow:Early stopping conditioned on metric `Val_loss` which is not available. Available metrics are: loss,accuracy,val_loss,val_accuracy\n",
      "20/20 [==============================] - 1s 47ms/step - loss: 0.1080 - accuracy: 0.9719 - val_loss: 1.6191 - val_accuracy: 0.5000\n",
      "Epoch 39/50\n",
      "19/20 [===========================>..] - ETA: 0s - loss: 0.0809 - accuracy: 0.9770WARNING:tensorflow:Early stopping conditioned on metric `Val_loss` which is not available. Available metrics are: loss,accuracy,val_loss,val_accuracy\n",
      "20/20 [==============================] - 1s 39ms/step - loss: 0.0828 - accuracy: 0.9766 - val_loss: 1.4863 - val_accuracy: 0.5063\n",
      "Epoch 40/50\n",
      "20/20 [==============================] - ETA: 0s - loss: 0.0612 - accuracy: 0.9797WARNING:tensorflow:Early stopping conditioned on metric `Val_loss` which is not available. Available metrics are: loss,accuracy,val_loss,val_accuracy\n",
      "20/20 [==============================] - 1s 49ms/step - loss: 0.0612 - accuracy: 0.9797 - val_loss: 1.2964 - val_accuracy: 0.5688\n",
      "Epoch 41/50\n",
      "20/20 [==============================] - ETA: 0s - loss: 0.0398 - accuracy: 0.9844WARNING:tensorflow:Early stopping conditioned on metric `Val_loss` which is not available. Available metrics are: loss,accuracy,val_loss,val_accuracy\n",
      "20/20 [==============================] - 1s 45ms/step - loss: 0.0398 - accuracy: 0.9844 - val_loss: 1.2641 - val_accuracy: 0.5813\n",
      "Epoch 42/50\n",
      "19/20 [===========================>..] - ETA: 0s - loss: 0.0313 - accuracy: 0.9852WARNING:tensorflow:Early stopping conditioned on metric `Val_loss` which is not available. Available metrics are: loss,accuracy,val_loss,val_accuracy\n",
      "20/20 [==============================] - 1s 40ms/step - loss: 0.0297 - accuracy: 0.9859 - val_loss: 1.3016 - val_accuracy: 0.5312\n",
      "Epoch 43/50\n",
      "19/20 [===========================>..] - ETA: 0s - loss: 0.0436 - accuracy: 0.9852WARNING:tensorflow:Early stopping conditioned on metric `Val_loss` which is not available. Available metrics are: loss,accuracy,val_loss,val_accuracy\n",
      "20/20 [==============================] - 1s 37ms/step - loss: 0.0418 - accuracy: 0.9859 - val_loss: 1.2485 - val_accuracy: 0.5500\n",
      "Epoch 44/50\n",
      "20/20 [==============================] - ETA: 0s - loss: 0.0326 - accuracy: 0.9859WARNING:tensorflow:Early stopping conditioned on metric `Val_loss` which is not available. Available metrics are: loss,accuracy,val_loss,val_accuracy\n",
      "20/20 [==============================] - 1s 45ms/step - loss: 0.0326 - accuracy: 0.9859 - val_loss: 1.1343 - val_accuracy: 0.5500\n",
      "Epoch 45/50\n",
      "19/20 [===========================>..] - ETA: 0s - loss: 0.0216 - accuracy: 0.9934WARNING:tensorflow:Early stopping conditioned on metric `Val_loss` which is not available. Available metrics are: loss,accuracy,val_loss,val_accuracy\n",
      "20/20 [==============================] - 1s 45ms/step - loss: 0.0207 - accuracy: 0.9937 - val_loss: 1.1424 - val_accuracy: 0.5250\n",
      "Epoch 46/50\n",
      "20/20 [==============================] - ETA: 0s - loss: 0.0293 - accuracy: 0.9906WARNING:tensorflow:Early stopping conditioned on metric `Val_loss` which is not available. Available metrics are: loss,accuracy,val_loss,val_accuracy\n",
      "20/20 [==============================] - 1s 41ms/step - loss: 0.0293 - accuracy: 0.9906 - val_loss: 1.1182 - val_accuracy: 0.5125\n",
      "Epoch 47/50\n",
      "19/20 [===========================>..] - ETA: 0s - loss: 0.0082 - accuracy: 0.9967WARNING:tensorflow:Early stopping conditioned on metric `Val_loss` which is not available. Available metrics are: loss,accuracy,val_loss,val_accuracy\n",
      "20/20 [==============================] - 1s 43ms/step - loss: 0.0078 - accuracy: 0.9969 - val_loss: 1.0724 - val_accuracy: 0.4938\n",
      "Epoch 48/50\n",
      "19/20 [===========================>..] - ETA: 0s - loss: 0.0087 - accuracy: 0.9967WARNING:tensorflow:Early stopping conditioned on metric `Val_loss` which is not available. Available metrics are: loss,accuracy,val_loss,val_accuracy\n",
      "20/20 [==============================] - 1s 42ms/step - loss: 0.0101 - accuracy: 0.9953 - val_loss: 1.1016 - val_accuracy: 0.5000\n",
      "Epoch 49/50\n",
      "20/20 [==============================] - ETA: 0s - loss: 0.0056 - accuracy: 0.9969WARNING:tensorflow:Early stopping conditioned on metric `Val_loss` which is not available. Available metrics are: loss,accuracy,val_loss,val_accuracy\n",
      "20/20 [==============================] - 1s 58ms/step - loss: 0.0056 - accuracy: 0.9969 - val_loss: 1.0541 - val_accuracy: 0.5000\n",
      "Epoch 50/50\n",
      "19/20 [===========================>..] - ETA: 0s - loss: 0.0110 - accuracy: 0.9967WARNING:tensorflow:Early stopping conditioned on metric `Val_loss` which is not available. Available metrics are: loss,accuracy,val_loss,val_accuracy\n",
      "20/20 [==============================] - 1s 54ms/step - loss: 0.0105 - accuracy: 0.9969 - val_loss: 1.0425 - val_accuracy: 0.5000\n"
     ]
    }
   ],
   "source": [
    "hist=nn.fit(x_train,y_train,validation_split=0.2,callbacks=[Early],epochs=50)"
   ]
  },
  {
   "cell_type": "markdown",
   "id": "62a2709a",
   "metadata": {},
   "source": [
    "# Plot the Result"
   ]
  },
  {
   "cell_type": "code",
   "execution_count": 49,
   "id": "3afaa028",
   "metadata": {},
   "outputs": [],
   "source": [
    "import matplotlib.pyplot as plt"
   ]
  },
  {
   "cell_type": "code",
   "execution_count": 50,
   "id": "ce964b7a",
   "metadata": {},
   "outputs": [
    {
     "data": {
      "text/plain": [
       "[<matplotlib.lines.Line2D at 0x1d4eea86e60>]"
      ]
     },
     "execution_count": 50,
     "metadata": {},
     "output_type": "execute_result"
    },
    {
     "data": {
      "image/png": "[encoded data removed]",
      "text/plain": [
       "<Figure size 640x480 with 1 Axes>"
      ]
     },
     "metadata": {},
     "output_type": "display_data"
    }
   ],
   "source": [
    "plt.plot(hist.history['loss'])\n",
    "plt.plot(hist.history['val_loss'])"
   ]
  },
  {
   "cell_type": "markdown",
   "id": "c3c9d266",
   "metadata": {},
   "source": [
    "# Prediction"
   ]
  },
  {
   "cell_type": "code",
   "execution_count": 51,
   "id": "707bb2b7",
   "metadata": {},
   "outputs": [
    {
     "name": "stdout",
     "output_type": "stream",
     "text": [
      "7/7 [==============================] - 0s 13ms/step\n"
     ]
    },
    {
     "data": {
      "text/plain": [
       "array([[5.23893476e-01],\n",
       "       [3.44931558e-02],\n",
       "       [3.70211989e-01],\n",
       "       [7.38479733e-01],\n",
       "       [1.41788758e-02],\n",
       "       [6.81504130e-01],\n",
       "       [1.00081548e-01],\n",
       "       [1.65742159e-01],\n",
       "       [6.01447582e-01],\n",
       "       [1.20811407e-02],\n",
       "       [9.19040203e-01],\n",
       "       [7.75549948e-01],\n",
       "       [1.22739859e-01],\n",
       "       [1.72974050e-01],\n",
       "       [4.70324814e-01],\n",
       "       [5.06098010e-03],\n",
       "       [8.08020830e-01],\n",
       "       [1.98527575e-01],\n",
       "       [3.35903645e-01],\n",
       "       [1.50354296e-01],\n",
       "       [4.82110500e-01],\n",
       "       [6.82105660e-01],\n",
       "       [4.09152895e-01],\n",
       "       [7.64934480e-01],\n",
       "       [5.98463953e-01],\n",
       "       [8.88149440e-01],\n",
       "       [2.56598853e-02],\n",
       "       [9.94751751e-02],\n",
       "       [2.83171535e-01],\n",
       "       [6.23605132e-01],\n",
       "       [1.06457695e-02],\n",
       "       [9.26325321e-01],\n",
       "       [8.89175355e-01],\n",
       "       [6.57245755e-01],\n",
       "       [2.42454171e-01],\n",
       "       [8.74609202e-02],\n",
       "       [9.85220492e-01],\n",
       "       [3.56562734e-01],\n",
       "       [9.49715137e-01],\n",
       "       [8.83866727e-01],\n",
       "       [6.33724749e-01],\n",
       "       [2.89093107e-01],\n",
       "       [6.83611706e-02],\n",
       "       [9.99987245e-01],\n",
       "       [7.74578094e-01],\n",
       "       [3.58733684e-01],\n",
       "       [5.05349994e-01],\n",
       "       [7.33689785e-01],\n",
       "       [8.72688711e-01],\n",
       "       [8.60118568e-02],\n",
       "       [8.72688711e-01],\n",
       "       [1.55490458e-01],\n",
       "       [8.89919519e-01],\n",
       "       [9.52403545e-01],\n",
       "       [6.48837686e-01],\n",
       "       [4.85151768e-01],\n",
       "       [3.10203750e-02],\n",
       "       [9.96826172e-01],\n",
       "       [4.06759903e-02],\n",
       "       [1.83853090e-01],\n",
       "       [8.59125912e-01],\n",
       "       [9.84225392e-01],\n",
       "       [3.30743678e-02],\n",
       "       [9.13725793e-01],\n",
       "       [7.50387490e-01],\n",
       "       [3.93146217e-01],\n",
       "       [6.53747544e-02],\n",
       "       [9.86200199e-03],\n",
       "       [1.25451252e-01],\n",
       "       [2.03208134e-01],\n",
       "       [4.08068895e-01],\n",
       "       [2.66346753e-01],\n",
       "       [1.75233826e-01],\n",
       "       [2.57746696e-01],\n",
       "       [1.84266359e-01],\n",
       "       [8.29434320e-02],\n",
       "       [4.13938612e-01],\n",
       "       [1.71341404e-01],\n",
       "       [5.45159042e-01],\n",
       "       [9.97527540e-01],\n",
       "       [9.90747511e-01],\n",
       "       [8.31179082e-01],\n",
       "       [1.04029410e-01],\n",
       "       [2.60085370e-02],\n",
       "       [2.66417593e-01],\n",
       "       [2.43550643e-01],\n",
       "       [3.81393172e-02],\n",
       "       [2.37145662e-01],\n",
       "       [9.27291140e-02],\n",
       "       [5.04989102e-02],\n",
       "       [4.50747132e-01],\n",
       "       [3.40852946e-01],\n",
       "       [9.20028031e-01],\n",
       "       [9.14383829e-01],\n",
       "       [6.39186680e-01],\n",
       "       [1.75952855e-02],\n",
       "       [6.11137509e-01],\n",
       "       [7.87426353e-01],\n",
       "       [1.96449175e-01],\n",
       "       [2.18928643e-02],\n",
       "       [1.65411189e-01],\n",
       "       [1.01509184e-01],\n",
       "       [1.20232411e-01],\n",
       "       [7.62948468e-02],\n",
       "       [1.60287023e-02],\n",
       "       [2.54252590e-02],\n",
       "       [8.91160369e-01],\n",
       "       [3.05475116e-01],\n",
       "       [8.03572139e-11],\n",
       "       [4.04927842e-02],\n",
       "       [3.27734649e-01],\n",
       "       [1.71979330e-02],\n",
       "       [5.96706986e-01],\n",
       "       [2.86990665e-02],\n",
       "       [9.93283466e-02],\n",
       "       [6.06673002e-01],\n",
       "       [5.10000646e-01],\n",
       "       [8.11382949e-01],\n",
       "       [3.44931558e-02],\n",
       "       [5.25708944e-02],\n",
       "       [1.90744258e-03],\n",
       "       [6.22703254e-01],\n",
       "       [2.26432502e-01],\n",
       "       [4.10989299e-02],\n",
       "       [8.80441785e-01],\n",
       "       [5.26554763e-01],\n",
       "       [4.02652055e-01],\n",
       "       [4.62780356e-01],\n",
       "       [9.51258719e-01],\n",
       "       [1.08911514e-01],\n",
       "       [1.18522823e-01],\n",
       "       [2.64324397e-01],\n",
       "       [9.39845800e-01],\n",
       "       [7.21375167e-01],\n",
       "       [1.62660986e-01],\n",
       "       [8.97701621e-01],\n",
       "       [4.73115236e-01],\n",
       "       [3.80058378e-01],\n",
       "       [2.83492263e-04],\n",
       "       [5.94185233e-01],\n",
       "       [3.93172324e-01],\n",
       "       [9.66658890e-01],\n",
       "       [2.37149954e-01],\n",
       "       [5.43270946e-01],\n",
       "       [3.93146217e-01],\n",
       "       [2.75279153e-02],\n",
       "       [1.15482388e-02],\n",
       "       [4.83403385e-01],\n",
       "       [2.08013400e-01],\n",
       "       [7.92577744e-01],\n",
       "       [5.47925115e-01],\n",
       "       [9.90130007e-01],\n",
       "       [1.94089059e-02],\n",
       "       [5.88888582e-03],\n",
       "       [9.53435063e-01],\n",
       "       [9.47977509e-03],\n",
       "       [8.88964832e-01],\n",
       "       [6.52615905e-01],\n",
       "       [4.07817885e-02],\n",
       "       [6.88704371e-01],\n",
       "       [3.53349417e-01],\n",
       "       [3.17105628e-03],\n",
       "       [5.13567448e-01],\n",
       "       [4.03597504e-02],\n",
       "       [7.99401820e-01],\n",
       "       [7.27225006e-01],\n",
       "       [5.97441316e-01],\n",
       "       [2.33859941e-01],\n",
       "       [2.80975729e-01],\n",
       "       [2.08593115e-01],\n",
       "       [1.68353301e-02],\n",
       "       [4.67238992e-01],\n",
       "       [1.33912936e-01],\n",
       "       [6.86829746e-01],\n",
       "       [8.44832599e-01],\n",
       "       [1.23358950e-01],\n",
       "       [9.13026929e-03],\n",
       "       [8.75925243e-01],\n",
       "       [6.21740758e-01],\n",
       "       [4.07936454e-01],\n",
       "       [3.62780243e-02],\n",
       "       [9.99308527e-02],\n",
       "       [9.22740161e-01],\n",
       "       [4.08788264e-01],\n",
       "       [2.47048754e-02],\n",
       "       [3.12241137e-01],\n",
       "       [7.67878771e-01],\n",
       "       [9.56624568e-01],\n",
       "       [4.16981913e-02],\n",
       "       [8.65727961e-01],\n",
       "       [5.76696992e-01],\n",
       "       [4.61471051e-01],\n",
       "       [9.93999302e-01],\n",
       "       [2.13885218e-01],\n",
       "       [2.45364830e-01],\n",
       "       [5.88870049e-01],\n",
       "       [1.07997961e-01],\n",
       "       [4.26184349e-02],\n",
       "       [4.02663976e-01],\n",
       "       [1.60783157e-02]], dtype=float32)"
      ]
     },
     "execution_count": 51,
     "metadata": {},
     "output_type": "execute_result"
    }
   ],
   "source": [
    "y_pred1= nn.predict(x_test)\n",
    "y_pred1"
   ]
  },
  {
   "cell_type": "code",
   "execution_count": 55,
   "id": "1197d664",
   "metadata": {},
   "outputs": [],
   "source": [
    "y_pred=[]\n",
    "\n",
    "for i in y_pred1:\n",
    "    if i>0.5:\n",
    "        y_pred.append(1)\n",
    "    else:\n",
    "        y_pred.append(0)"
   ]
  },
  {
   "cell_type": "code",
   "execution_count": 57,
   "id": "67a6784d",
   "metadata": {},
   "outputs": [
    {
     "data": {
      "text/plain": [
       "[1,\n",
       " 0,\n",
       " 0,\n",
       " 1,\n",
       " 0,\n",
       " 1,\n",
       " 0,\n",
       " 0,\n",
       " 1,\n",
       " 0,\n",
       " 1,\n",
       " 1,\n",
       " 0,\n",
       " 0,\n",
       " 0,\n",
       " 0,\n",
       " 1,\n",
       " 0,\n",
       " 0,\n",
       " 0,\n",
       " 0,\n",
       " 1,\n",
       " 0,\n",
       " 1,\n",
       " 1,\n",
       " 1,\n",
       " 0,\n",
       " 0,\n",
       " 0,\n",
       " 1,\n",
       " 0,\n",
       " 1,\n",
       " 1,\n",
       " 1,\n",
       " 0,\n",
       " 0,\n",
       " 1,\n",
       " 0,\n",
       " 1,\n",
       " 1,\n",
       " 1,\n",
       " 0,\n",
       " 0,\n",
       " 1,\n",
       " 1,\n",
       " 0,\n",
       " 1,\n",
       " 1,\n",
       " 1,\n",
       " 0,\n",
       " 1,\n",
       " 0,\n",
       " 1,\n",
       " 1,\n",
       " 1,\n",
       " 0,\n",
       " 0,\n",
       " 1,\n",
       " 0,\n",
       " 0,\n",
       " 1,\n",
       " 1,\n",
       " 0,\n",
       " 1,\n",
       " 1,\n",
       " 0,\n",
       " 0,\n",
       " 0,\n",
       " 0,\n",
       " 0,\n",
       " 0,\n",
       " 0,\n",
       " 0,\n",
       " 0,\n",
       " 0,\n",
       " 0,\n",
       " 0,\n",
       " 0,\n",
       " 1,\n",
       " 1,\n",
       " 1,\n",
       " 1,\n",
       " 0,\n",
       " 0,\n",
       " 0,\n",
       " 0,\n",
       " 0,\n",
       " 0,\n",
       " 0,\n",
       " 0,\n",
       " 0,\n",
       " 0,\n",
       " 1,\n",
       " 1,\n",
       " 1,\n",
       " 0,\n",
       " 1,\n",
       " 1,\n",
       " 0,\n",
       " 0,\n",
       " 0,\n",
       " 0,\n",
       " 0,\n",
       " 0,\n",
       " 0,\n",
       " 0,\n",
       " 1,\n",
       " 0,\n",
       " 0,\n",
       " 0,\n",
       " 0,\n",
       " 0,\n",
       " 1,\n",
       " 0,\n",
       " 0,\n",
       " 1,\n",
       " 1,\n",
       " 1,\n",
       " 0,\n",
       " 0,\n",
       " 0,\n",
       " 1,\n",
       " 0,\n",
       " 0,\n",
       " 1,\n",
       " 1,\n",
       " 0,\n",
       " 0,\n",
       " 1,\n",
       " 0,\n",
       " 0,\n",
       " 0,\n",
       " 1,\n",
       " 1,\n",
       " 0,\n",
       " 1,\n",
       " 0,\n",
       " 0,\n",
       " 0,\n",
       " 1,\n",
       " 0,\n",
       " 1,\n",
       " 0,\n",
       " 1,\n",
       " 0,\n",
       " 0,\n",
       " 0,\n",
       " 0,\n",
       " 0,\n",
       " 1,\n",
       " 1,\n",
       " 1,\n",
       " 0,\n",
       " 0,\n",
       " 1,\n",
       " 0,\n",
       " 1,\n",
       " 1,\n",
       " 0,\n",
       " 1,\n",
       " 0,\n",
       " 0,\n",
       " 1,\n",
       " 0,\n",
       " 1,\n",
       " 1,\n",
       " 1,\n",
       " 0,\n",
       " 0,\n",
       " 0,\n",
       " 0,\n",
       " 0,\n",
       " 0,\n",
       " 1,\n",
       " 1,\n",
       " 0,\n",
       " 0,\n",
       " 1,\n",
       " 1,\n",
       " 0,\n",
       " 0,\n",
       " 0,\n",
       " 1,\n",
       " 0,\n",
       " 0,\n",
       " 0,\n",
       " 1,\n",
       " 1,\n",
       " 0,\n",
       " 1,\n",
       " 1,\n",
       " 0,\n",
       " 1,\n",
       " 0,\n",
       " 0,\n",
       " 1,\n",
       " 0,\n",
       " 0,\n",
       " 0,\n",
       " 0]"
      ]
     },
     "execution_count": 57,
     "metadata": {},
     "output_type": "execute_result"
    }
   ],
   "source": [
    "y_pred"
   ]
  },
  {
   "cell_type": "code",
   "execution_count": 58,
   "id": "fc59bb80",
   "metadata": {},
   "outputs": [
    {
     "data": {
      "text/plain": [
       "492    0\n",
       "383    0\n",
       "856    1\n",
       "834    1\n",
       "603    1\n",
       "      ..\n",
       "72     0\n",
       "400    0\n",
       "813    0\n",
       "195    1\n",
       "45     1\n",
       "Name: Liked, Length: 200, dtype: int64"
      ]
     },
     "execution_count": 58,
     "metadata": {},
     "output_type": "execute_result"
    }
   ],
   "source": [
    "y_test"
   ]
  },
  {
   "cell_type": "markdown",
   "id": "4e5514e3",
   "metadata": {},
   "source": [
    "# Evalution of testing data"
   ]
  },
  {
   "cell_type": "code",
   "execution_count": 59,
   "id": "b88af6aa",
   "metadata": {},
   "outputs": [],
   "source": [
    "from sklearn.metrics import accuracy_score,classification_report,ConfusionMatrixDisplay"
   ]
  },
  {
   "cell_type": "code",
   "execution_count": 60,
   "id": "48ad7886",
   "metadata": {},
   "outputs": [
    {
     "name": "stdout",
     "output_type": "stream",
     "text": [
      "Accuracy: 0.495\n",
      "Classification Report:\n",
      "               precision    recall  f1-score   support\n",
      "\n",
      "           0       0.60      0.50      0.55       121\n",
      "           1       0.39      0.48      0.43        79\n",
      "\n",
      "    accuracy                           0.49       200\n",
      "   macro avg       0.49      0.49      0.49       200\n",
      "weighted avg       0.51      0.49      0.50       200\n",
      "\n"
     ]
    }
   ],
   "source": [
    "acc=accuracy_score(y_pred,y_test)\n",
    "clf=classification_report(y_pred,y_test)\n",
    "print('Accuracy:',acc)\n",
    "print('Classification Report:\\n',clf)"
   ]
  },
  {
   "cell_type": "markdown",
   "id": "0ab8df4e",
   "metadata": {},
   "source": [
    "# Unseen Data"
   ]
  },
  {
   "cell_type": "code",
   "execution_count": 62,
   "id": "b7d24747",
   "metadata": {},
   "outputs": [
    {
     "name": "stdout",
     "output_type": "stream",
     "text": [
      "Enter the Review: bad taste\n",
      "1/1 [==============================] - 0s 47ms/step\n",
      "Given Probability: [[0.4070634]]\n",
      "This is Negative Review\n"
     ]
    }
   ],
   "source": [
    "text=input('Enter the Review: ')\n",
    "s=text.lower()\n",
    "s1=re.sub('[^a-z]',' ',s)\n",
    "\n",
    "s2=tf.transform([s1]).toarray()\n",
    "\n",
    "prob=nn.predict(s2)\n",
    "print('Given Probability:',prob)\n",
    "\n",
    "if prob>0.5:\n",
    "    print('This is Positive Review')\n",
    "else:\n",
    "    print('This is Negative Review')"
   ]
  },
  {
   "cell_type": "code",
   "execution_count": null,
   "id": "4c0337ea",
   "metadata": {},
   "outputs": [],
   "source": []
  },
  {
   "cell_type": "code",
   "execution_count": null,
   "id": "b415730f",
   "metadata": {},
   "outputs": [],
   "source": []
  }
 ],
 "metadata": {
  "kernelspec": {
   "display_name": "Python 3 (ipykernel)",
   "language": "python",
   "name": "python3"
  },
  "language_info": {
   "codemirror_mode": {
    "name": "ipython",
    "version": 3
   },
   "file_extension": ".py",
   "mimetype": "text/x-python",
   "name": "python",
   "nbconvert_exporter": "python",
   "pygments_lexer": "ipython3",
   "version": "3.10.9"
  }
 },
 "nbformat": 4,
 "nbformat_minor": 5
}
